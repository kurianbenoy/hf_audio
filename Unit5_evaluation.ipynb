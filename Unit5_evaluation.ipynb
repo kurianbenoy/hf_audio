{
 "cells": [
  {
   "cell_type": "code",
   "execution_count": 27,
   "metadata": {},
   "outputs": [],
   "source": [
    "from jiwer import wer\n",
    "from datasets import load_dataset, DatasetDict, Audio\n",
    "from whisper_normalizer.basic import BasicTextNormalizer\n",
    "from transformers import pipeline"
   ]
  },
  {
   "cell_type": "code",
   "execution_count": 17,
   "metadata": {},
   "outputs": [],
   "source": [
    "import gc\n",
    "\n",
    "import torch\n",
    "# from transformers.models.whisper.english_normalizer import BasicTextNormalizer\n",
    "from numerize import numerize\n"
   ]
  },
  {
   "cell_type": "code",
   "execution_count": 18,
   "metadata": {},
   "outputs": [],
   "source": [
    "\n",
    "# %% ../nbs/00_utils.ipynb 4\n",
    "whisper_norm = BasicTextNormalizer()\n",
    "\n",
    "# %% ../nbs/00_utils.ipynb 5\n",
    "def is_target_text_in_range(ref):\n",
    "    if ref.strip() == \"ignore time segment in scoring\":\n",
    "        return False\n",
    "    else:\n",
    "        return ref.strip() != \"\"\n",
    "\n",
    "\n",
    "def get_text(sample):\n",
    "    if \"text\" in sample:\n",
    "        return sample[\"text\"]\n",
    "    elif \"sentence\" in sample:\n",
    "        return sample[\"sentence\"]\n",
    "    elif \"normalized_text\" in sample:\n",
    "        return sample[\"normalized_text\"]\n",
    "    elif \"transcript\" in sample:\n",
    "        return sample[\"transcript\"]\n",
    "    elif \"transcription\" in sample:\n",
    "        return sample[\"transcription\"]\n",
    "    else:\n",
    "        raise ValueError(\n",
    "            f\"Expected transcript column of either 'text', 'sentence', 'normalized_text' or 'transcript'. Got sample of \"\n",
    "            \".join{sample.keys()}. Ensure a text column name is present in the dataset.\"\n",
    "        )\n",
    "\n",
    "\n",
    "def normalise(batch):\n",
    "    batch[\"norm_text\"] = whisper_norm(get_text(batch))\n",
    "    return batch\n",
    "\n",
    "\n",
    "def data(dataset):\n",
    "    for i, item in enumerate(dataset):\n",
    "        yield {**item[\"audio\"], \"reference\": item[\"norm_text\"]}\n",
    "\n",
    "# %% ../nbs/00_utils.ipynb 6\n",
    "def get_model_size(model):\n",
    "    total_params = sum(param.numel() for param in model.parameters())\n",
    "    return numerize.numerize(total_params)\n",
    "\n",
    "# %% ../nbs/00_utils.ipynb 7\n",
    "def clear_gpu_memory():\n",
    "    torch.cuda.empty_cache()\n",
    "    gc.collect()"
   ]
  },
  {
   "cell_type": "code",
   "execution_count": 19,
   "metadata": {},
   "outputs": [
    {
     "name": "stderr",
     "output_type": "stream",
     "text": [
      "Using the latest cached version of the module from /home/kurianbenoy/.cache/huggingface/modules/datasets_modules/datasets/PolyAI--minds14/65c7e0f3be79e18a6ffaf879a083daf706312d421ac90d25718459cbf3c42696 (last modified on Sat Jul  1 13:29:08 2023) since it couldn't be found locally at PolyAI/minds14., or remotely on the Hugging Face Hub.\n",
      "Found cached dataset minds14 (/home/kurianbenoy/.cache/huggingface/datasets/PolyAI___minds14/en-US/1.0.0/65c7e0f3be79e18a6ffaf879a083daf706312d421ac90d25718459cbf3c42696)\n",
      "Found cached dataset minds14 (/home/kurianbenoy/.cache/huggingface/datasets/PolyAI___minds14/en-US/1.0.0/65c7e0f3be79e18a6ffaf879a083daf706312d421ac90d25718459cbf3c42696)\n"
     ]
    },
    {
     "name": "stdout",
     "output_type": "stream",
     "text": [
      "DatasetDict({\n",
      "    train: Dataset({\n",
      "        features: ['path', 'audio', 'transcription', 'english_transcription', 'intent_class', 'lang_id'],\n",
      "        num_rows: 450\n",
      "    })\n",
      "    test: Dataset({\n",
      "        features: ['path', 'audio', 'transcription', 'english_transcription', 'intent_class', 'lang_id'],\n",
      "        num_rows: 113\n",
      "    })\n",
      "})\n"
     ]
    }
   ],
   "source": [
    "poly = DatasetDict()\n",
    "\n",
    "poly[\"train\"] = load_dataset(\n",
    "    \"PolyAI/minds14\", \"en-US\", split=\"train[0%:80%]\"\n",
    ")\n",
    "poly[\"test\"] = load_dataset(\n",
    "    \"PolyAI/minds14\", \"en-US\", split=\"train[80%:100%]\"\n",
    ")\n",
    "\n",
    "print(poly)"
   ]
  },
  {
   "cell_type": "code",
   "execution_count": 8,
   "metadata": {},
   "outputs": [
    {
     "name": "stderr",
     "output_type": "stream",
     "text": [
      "Downloading (…)lve/main/config.json: 100%|██████████| 2.24k/2.24k [00:00<00:00, 7.63MB/s]\n",
      "Downloading pytorch_model.bin: 100%|██████████| 151M/151M [00:26<00:00, 5.76MB/s] \n",
      "Downloading (…)neration_config.json: 100%|██████████| 3.59k/3.59k [00:00<00:00, 12.8MB/s]\n",
      "Downloading (…)okenizer_config.json: 100%|██████████| 805/805 [00:00<00:00, 3.54MB/s]\n",
      "Downloading (…)olve/main/vocab.json: 100%|██████████| 1.04M/1.04M [00:00<00:00, 1.12MB/s]\n",
      "Downloading (…)olve/main/merges.txt: 100%|██████████| 494k/494k [00:00<00:00, 9.98MB/s]\n",
      "Downloading (…)main/normalizer.json: 100%|██████████| 52.7k/52.7k [00:00<00:00, 222kB/s]\n",
      "Downloading (…)in/added_tokens.json: 100%|██████████| 2.08k/2.08k [00:00<00:00, 5.28MB/s]\n",
      "Downloading (…)cial_tokens_map.json: 100%|██████████| 2.08k/2.08k [00:00<00:00, 9.13MB/s]\n",
      "Downloading (…)rocessor_config.json: 100%|██████████| 339/339 [00:00<00:00, 2.09MB/s]\n"
     ]
    }
   ],
   "source": [
    "whisper_asr = pipeline(\"automatic-speech-recognition\", model=\"kurianbenoy/hfa-whisper-tiny-dv\")"
   ]
  },
  {
   "cell_type": "code",
   "execution_count": 25,
   "metadata": {},
   "outputs": [],
   "source": [
    "def ld():\n",
    "    dataset = poly[\"test\"]\n",
    "    dataset = dataset.cast_column(\"audio\", Audio(sampling_rate=16000))\n",
    "    dataset = dataset.map(normalise)\n",
    "    dataset = dataset.filter(is_target_text_in_range, input_columns=[\"norm_text\"])\n",
    "    return dataset"
   ]
  },
  {
   "cell_type": "code",
   "execution_count": 39,
   "metadata": {},
   "outputs": [
    {
     "name": "stderr",
     "output_type": "stream",
     "text": [
      "Loading cached processed dataset at /home/kurianbenoy/.cache/huggingface/datasets/PolyAI___minds14/en-US/1.0.0/65c7e0f3be79e18a6ffaf879a083daf706312d421ac90d25718459cbf3c42696/cache-c4b3ccbc6595b7a9.arrow\n",
      "Loading cached processed dataset at /home/kurianbenoy/.cache/huggingface/datasets/PolyAI___minds14/en-US/1.0.0/65c7e0f3be79e18a6ffaf879a083daf706312d421ac90d25718459cbf3c42696/cache-17bcfd0e03432841.arrow\n"
     ]
    },
    {
     "name": "stderr",
     "output_type": "stream",
     "text": [
      "/home/kurianbenoy/mambaforge/lib/python3.10/site-packages/transformers/generation/utils.py:1353: UserWarning: Using `max_length`'s default (448) to control the generation length. This behaviour is deprecated and will be removed from the config in v5 of Transformers -- we recommend using `max_new_tokens` to control the maximum length of the generation.\n",
      "  warnings.warn(\n"
     ]
    },
    {
     "name": "stdout",
     "output_type": "stream",
     "text": [
      "CPU times: user 12min 58s, sys: 2min 28s, total: 15min 26s\n",
      "Wall time: 2min 30s\n"
     ]
    }
   ],
   "source": [
    "%%time\n",
    "ds = ld()\n",
    "predictions = []\n",
    "predictions_raw = []\n",
    "references = []\n",
    "references_raw = []\n",
    "normalizer = BasicTextNormalizer()\n",
    "for out in whisper_asr(data(ds), batch_size=4):\n",
    "    predictions_raw.append(out[\"text\"])\n",
    "    references_raw.append(out[\"reference\"][0])\n",
    "    predictions.append(normalizer(out[\"text\"]))\n",
    "    references.append(normalizer(out[\"reference\"][0]))"
   ]
  },
  {
   "cell_type": "code",
   "execution_count": 40,
   "metadata": {},
   "outputs": [
    {
     "data": {
      "text/plain": [
       "0.7135306553911205"
      ]
     },
     "execution_count": 40,
     "metadata": {},
     "output_type": "execute_result"
    }
   ],
   "source": [
    "wer(predictions_raw, references_raw)"
   ]
  },
  {
   "cell_type": "code",
   "execution_count": 41,
   "metadata": {},
   "outputs": [
    {
     "data": {
      "text/plain": [
       "0.49076385421867197"
      ]
     },
     "execution_count": 41,
     "metadata": {},
     "output_type": "execute_result"
    }
   ],
   "source": [
    "wer(predictions, references)"
   ]
  },
  {
   "cell_type": "code",
   "execution_count": 42,
   "metadata": {},
   "outputs": [
    {
     "data": {
      "text/plain": [
       "[' i have a 100hz check and i was wondering how i can deposit that into my account ',\n",
       " ' hi i m onit today the project will be released soon ',\n",
       " ' hi i am likthul for the front money company please check the account please ',\n",
       " ' can you help me figure out how to hold it ',\n",
       " ' hello i was wondering how i could deposit money into my account ',\n",
       " ' oh yes get after me i m an easy man i m trying to deposit if you want money it s my account and how can i do that where can i make it deposit or how can i transfer money to my account ',\n",
       " ' hello i m going to tell you why i was wondering how can i deposit money in your bank okay okay so how can i do it okay alright so we re gonna deposit this money okay yeah i understand thank you ',\n",
       " ' now i m under your phone how cute it is it s just my camera ',\n",
       " ' i would like to give a pause in mani ',\n",
       " ' have some more time ',\n",
       " ' i ll be back soon ',\n",
       " ' i am orangea japan it s a money but i want to use cash how would i go about doing this process thank you ',\n",
       " ' hi i m ms cohen q sheikson s dialysis she ll go about depolariting money into my account i ve got some free money so i d like to actually transfer it or depugate it into my or the account i m just not sure sure i ll do that is there a site in which i should go to some help where should i go on the apps to depugate money i would just like to help thank you ',\n",
       " ' can you tell me how i can dip hugger money intimey bank account ',\n",
       " ' with the likes too deposit money into my account ',\n",
       " ' hi i was hoping he could help me i m wondering what options i have for depositing money into my account thanks ',\n",
       " ' the person who has been killed is called mahadev ',\n",
       " ' i need to do the problem money where can i do the problem money at ',\n",
       " ' hi how are you i shall change it just pause it means i am fine ',\n",
       " ' anite issa pauze is the money in front of my account today how do i transfer to an unmanned tv account if i wanted to deposit in person or work in aliveattre ',\n",
       " ' where can i go now where can i go now ',\n",
       " ' hardaway deposit money in chumaia account ',\n",
       " ' good morning come on vacation i can t seem to find any bank branch location as wondering if you tell me where i can deposit money into my account ',\n",
       " ' i ll kill you now ',\n",
       " ' hi i m new jersey debent can you help me transfer money into my account thank you ',\n",
       " ' how do i transfer from money to the account over where do i deposit money ',\n",
       " ' hello ananya youtube appartists will join us tomorrow ',\n",
       " ' how could i deposit parish to my account ',\n",
       " ' hi i m trying to pay something with my card it doesn t seem to work whenever i call him it doesn t actually work new explain to me a little while he s working with his bank thanks ',\n",
       " ' good morning i m trying to use my atm at devitt card and it is coming up refuse i was wondering if you could tell me why i think i have enough money in the account to cover the charges thank you very much ',\n",
       " ' my card is continuously being declined and not working ',\n",
       " ' hello i was calling regards problems i have with my card it s not letting me pay for my groceries no what s the problem ',\n",
       " ' my car doesn t work ',\n",
       " ' now my card isn t working give me your help ',\n",
       " ' my bank card hasn t worked at all ',\n",
       " ' my card is not working it will not pay ',\n",
       " ' why was my pain went declined ',\n",
       " ' why isn t my card working ',\n",
       " ' can you help me with my debit card it s declining ',\n",
       " ' i need help figuring out what s wrong with my card ',\n",
       " ' i m trying to find out what my core keeps being declined ',\n",
       " ' i tried to make a payment with my car or the mb car won t go through ',\n",
       " ' and i am halleenishu i am kaornit i am timel it s mark it s not ',\n",
       " ' hi i can t use my car because of the judgment work i don t know why my payment works because of the client can you help ',\n",
       " ' i m probing you can help me i have a card with your bank i just tried to use it it s being refused could you help me with this it s been declined is there a problem with surveillance ',\n",
       " ' why was my card declined ',\n",
       " ' why does my card keep getting decoyed ',\n",
       " ' hello i m trying to get in touch with someone else it s just giving me error messages no matter what i do call username store or call username ',\n",
       " ' hi i was genuinely worried about my cards now ',\n",
       " ' card not working ',\n",
       " ' can you please help me with my card it does not work and it refuses to pay it was declined ',\n",
       " ' hi i would quite feel like an assistant officer i m a little bit confused because my card is not working it can be completely stopped i m not able to purchase anything i m not sure why i ll go ahead and help ask you to why my card is not functioning the guy by june needed to be working so i just like some help with storing my card thank you ',\n",
       " ' hi i was hoping you could help me i have a card from my bank but it is not working i have money in the bank but the card doesn t pay on mine it doesn t pay physical location so i can t get it to form any transaction so i need help thank you ',\n",
       " ' i can t use my car because he doesn t work ',\n",
       " ' hello my car just doesn t work i m unable to withdraw anything my car is allowed ',\n",
       " ' hey i m calling to see why my debit card was declining i tried to pay 4 groceries and it kept declining i tried 4 times i don t know if i have any use of different debit cards but is there a problem with my balance stuff that i was showing or is it like do i need a credit card what s the reason why i pay him in the coin yeah i appreciate some help thanks ',\n",
       " ' hello i m calling you because i have a problem with my cart here it s the client my payment is now 9 00 okay so can you tell me why it doesn t work okay i have to visit your bank ',\n",
       " ' hi get after me can you help me with my card i m having trouble i m here at the grocery store and i m trying to use my card but i won t work it won t open up make a payment here can you tell me what s wrong or what s happening to me can you help me resolve this please ',\n",
       " ' hi i m irreceito nucard i m pinky nucard the card is not working right now so i need some help to figure out what s going on with the card ',\n",
       " ' i was trying to use my card today the card you ve not working is there a problem with the raheha with it could you tell me what s going on so why am i paying my students to go through ',\n",
       " ' i d pay him i d be in the car ',\n",
       " ' can you help me fix my car i m trying to get cash bags and not let me in ',\n",
       " ' i seem to be having trouble using my cord ',\n",
       " ' smiler i ve just tried using my card it doesn t let me pay with anything is there something wrong can you please help me figure out what s wrong with my card thanks ',\n",
       " ' i m having trouble getting my card approved ',\n",
       " ' i am trying to make a purchase on amazon but my card keeps declining ',\n",
       " ' yeah i m having a trouble with my car it keeps getting to quiet ',\n",
       " ' hi my card has been declined can you help me with it ',\n",
       " ' tryna to figure out why my pain went with decline ',\n",
       " ' hey uh i thought something was wrong but i painted it with the client can you help me with my card ',\n",
       " ' my card isn t working why was my payment the card ',\n",
       " ' my card isn t working and it also got decline ',\n",
       " ' i need help after getting mild cause ',\n",
       " ' hi i just got my new card in the mail and for some reason i m not able to use it at the store can you help me understand why my payment is being given to me while the cards are not working ',\n",
       " ' i m calling to inquire about this miss loan ',\n",
       " ' hello i m calling you about my business firm ',\n",
       " ' i want to see what s going on for a while ',\n",
       " ' i would like to inquire about a business loan ',\n",
       " ' i have some questions about business loan ',\n",
       " ' mintros said it in information on a new new business',\n",
       " ' i d like to apply for a new business loan ',\n",
       " ' i d like some information on getting a new or existing alarm ',\n",
       " ' hello i m calling you and regards your question tonight have a new loan ',\n",
       " ' i have a question i m about an existing loan ',\n",
       " ' hi i m calling about a big news ',\n",
       " ' new plan ',\n",
       " ' hi i am trying to create a business loan and i would like to give some more information about that ',\n",
       " ' i d like some information about it ',\n",
       " ' i would like to talk about a bit in this lounge ',\n",
       " ' hello i am calling tune talk about a new visitor loan that i want to take out i m trying to start a business with my husband and i wanted to know how to start that process ms carl has applied for this disney club loan ',\n",
       " ' hi there i m just calling tim quarabout getting a new business loan ',\n",
       " ' tell us i m like this ',\n",
       " ' i m currently talking about neo gejasting business ',\n",
       " ' i would call it a ask about a businessman ',\n",
       " ' i would like to see them get a visit for our new business ',\n",
       " ' i would like to you a pie for a new business loan please ',\n",
       " ' i want to see you obtain a business loan ',\n",
       " ' i have a question ',\n",
       " ' can you give me information regarding a business long ',\n",
       " ' hi i am calling to ask about the rates on new business loans ',\n",
       " ' i d like some information about a business loan ',\n",
       " ' i need information from asian news about business firm ',\n",
       " ' hello i was calling to see if i was able to open up the new business long thank you ',\n",
       " ' hello i m calling about my business i would like to talk about my business ',\n",
       " ' farazis is possible or who will run into get caught at once ',\n",
       " ' can i get in your basement now ',\n",
       " ' hello this is uncle i m calling q asked about her ',\n",
       " ' i am going to talk about pre existing business problems with business business ',\n",
       " ' hi i m at a cow holder i ve been for 10 years and i d like to speak to somebody about taking out ai business loan ',\n",
       " ' it s umbout i m gonna make my first payment on my loan but i have a couple questions about it ',\n",
       " ' hi there i m riking about a business loan i would like to take a new one out ',\n",
       " ' hello i would like to take a look ',\n",
       " ' hi i m colleen from schneider hardware and i need you to discuss a business loan it is an existing loan that i need to have but refigures if you re good help please let me know thanks ']"
      ]
     },
     "execution_count": 42,
     "metadata": {},
     "output_type": "execute_result"
    }
   ],
   "source": [
    "predictions\n"
   ]
  },
  {
   "cell_type": "code",
   "execution_count": 43,
   "metadata": {},
   "outputs": [
    {
     "data": {
      "text/plain": [
       "['i have a 100 check and i was wondering how i can deposit that into my account',\n",
       " 'hi wanted to deposit a check that i received from work today or can i deposit it',\n",
       " 'i d like to put some money into my checking account please',\n",
       " 'can you help me figuring out how to deposit money into my account',\n",
       " 'how i can deposit some money into my account',\n",
       " 'oh yes good afternoon i need some help i m trash deposit some money into my account and how can i do that where can i make a deposit or how can i change the money to my account',\n",
       " 'hello i m going to say i was wondering how can i deposit money in your bank',\n",
       " 'how to deposit money',\n",
       " 'i would like to deposit money what s the best way to accomplish that',\n",
       " 'how can i deposit money into my account',\n",
       " 'help me make a deposit into my account please',\n",
       " 'i want to deposit some money but i want to use cash how would i go about doing it',\n",
       " 'i m going to speak volumes about how i actually go about putting money into my account is transferred to somehow wells fargo money order',\n",
       " 'can you tell me how i can deposit money into my bank account',\n",
       " 'would you like to deposit money into my account',\n",
       " 'i was hoping you could help me i m wondering what options do i have for depositing money into my account',\n",
       " 'how do i deposit money into my account',\n",
       " 'i need to deposit money where can i deposit money at',\n",
       " 'hi hello i just need to deposit money into my account please',\n",
       " 'deposit money into my account today how do i transfer my account',\n",
       " 'where can i want to where can i go if i want to deposit cash into my account',\n",
       " 'how do i deposit money into my account',\n",
       " 'good morning i m on vacation to find a branch location as wondering if you could tell me where i can deposit money into my',\n",
       " 'where can i deposit money',\n",
       " 'i m using the bank can you help me transfer money into my account thank you',\n",
       " 'how do i transfer money to the account or where do i deposit money',\n",
       " 'hello i need to deposit money into my account',\n",
       " 'how can i deposit cash to my account',\n",
       " 'i m trying to say something is my car doesn t seem to work whenever i called do it it doesn t actually work',\n",
       " 'good morning i m trying to use my atm debit card and it is coming up i was wondering if you tell me why i have enough money in the account to cover the charges',\n",
       " 'my card is continuously being declined and not working',\n",
       " 'hello i was just calling regards problems i have with my card not letting me pay for my groceries know what the problem is',\n",
       " 'my card isn t working',\n",
       " 'my card isn t working can you help me',\n",
       " 'my bank card hasn t worked at all',\n",
       " 'my card is not working it will not pay',\n",
       " 'why was my payment declined',\n",
       " 'why isn t my card working',\n",
       " 'can you help me with my debit card is declining purchases but i know i have a balance in my account',\n",
       " 'i need help figuring out what s wrong with my card',\n",
       " 'i m trying to find out why my car keeps being declined',\n",
       " 'i tried to make a payment with my card and the card won t go through',\n",
       " 'i m having an issue with my card',\n",
       " 'hi i can t use my car because it doesn t work i don t know why my payment was declined and you help',\n",
       " 'i m hoping you can help me i have a card with your bank and i decide to use it and it s being with you help me with this is appendix wind is there a problem with the balance',\n",
       " 'why was my card declined',\n",
       " 'why does my card keep getting declined',\n",
       " 'hello i m trying to get in touch with someone about my bank card not working',\n",
       " 'hi i was wondering why my cards not working because my payment is declined',\n",
       " 'card not working',\n",
       " 'can you please help me with my card it does not work it repeated it was declined',\n",
       " 'i require some assistance on a little bit because my card if it s not working it s completely i m not sure why oh why my car is a function',\n",
       " 'i was hoping you could help me i have a card from a bank',\n",
       " 'is my car because it doesn t work',\n",
       " 'slow on my card doesn t work i m able to withdraw anything my account',\n",
       " 'see i m calling to see why my debit card was climbing i tried to pay for groceries and pick up the climbing at red like four times and up having to use a different debit card is there a problem with my balance at the app isn t showing or is it like is do i need a new card is it what s the reason my payment declined',\n",
       " 'hello i m going to cuz i have a problem with my car yeah it s declining my time until i don t understand why',\n",
       " 'hi good afternoon can you help me with my card i m having trouble i m here at 9 to use my card but it won t work it will not make a payment here tell me what s wrong with this please',\n",
       " 'is it a new card and banking card and the cards not working right now so i need some help trying to figure out what s going on with the car',\n",
       " 'i was trying to use my card today and the card is not working is there a problem that i have with it could you tell me what s going on why are my payments didn t go through',\n",
       " 'my payment is being declined',\n",
       " 'can you help me fix my card i m trying to get cash back and it won t let me and i know i have money in there',\n",
       " 'i seem to be having trouble with using my card',\n",
       " 'i just tried using my card and it doesn t let me pay with something wrong you please help me figure out what s wrong with my car',\n",
       " 'i m having trouble with my car approved',\n",
       " 'i m trying to make a purchase on amazon but my card keeps declining',\n",
       " 'yeah i m having trouble with my card keeps getting declined',\n",
       " 'my card has been declined',\n",
       " 'trying to figure out why my payment was declined',\n",
       " 'hey i bought something online but i payment was declined you help me with my card',\n",
       " 'my card isn t working why was my payment declined',\n",
       " 'my card isn t working in the office on speakerphone',\n",
       " 'i need help activating my scars',\n",
       " 'hi i just got my new card in the mail and for some reason i m not able to use it at the store he helped me understand why my payments being declined while the car is not working',\n",
       " 'i m calling to inquire about a business loan',\n",
       " 'tell me about my business and i have to see it',\n",
       " 'i want to apply for a business loan',\n",
       " 'i would like to inquire about a business loan',\n",
       " 'i have some questions about a business loan',\n",
       " 'i m interested in information on a new getting a new business loan',\n",
       " 'i d like to apply for a new business',\n",
       " 'i d like some information on getting a new or existing loan',\n",
       " 'calling in regards to a question that i have for a new loan',\n",
       " 'i have a question about an existing loan',\n",
       " 'hi i m calling about a business loan',\n",
       " 'new loan',\n",
       " 'hey i am trying to create a business and i would like to',\n",
       " 'i d like some information about a business loan',\n",
       " 'i would like to talk about a business loan',\n",
       " 'hello i am falling to talk about a new business loan that i want to take out and trying to start a business with my husband and i wanted to know how can you trust that process as far as applying for this business law',\n",
       " 'hi there i m just calling to inquire about getting a new business loan and howard',\n",
       " 'hello i would like to speak to someone about a business loan',\n",
       " 'i m calling about a news this thing business phone',\n",
       " 'i was calling to ask about a business loan',\n",
       " 'i would like to get a business loan for a new business',\n",
       " 'i would like to apply for a new business loan please',\n",
       " 'i want to obtain a business loan',\n",
       " 'i have a question about a business loan',\n",
       " 'can you give me information regarding a business loan',\n",
       " 'hi i m calling to ask about the rates on new business loans',\n",
       " 'i d like some information about a business loan',\n",
       " 'i need information about a business phone',\n",
       " 'hello i was calling to see if i was able to open up a new business loan',\n",
       " 'hello i m calling about my business loan i would like to talk about my business phone and i have a few questions i need answered',\n",
       " 'hello i would like to make a loan for',\n",
       " 'business loan',\n",
       " 'hello this is a calling to ask about an existing loan',\n",
       " 'sampling about a pre existing a business loan that i have with you guys let s have some questions about it',\n",
       " 'hi i m an account holder have been for 18 years and i d like to speak to somebody about taking out a business loan',\n",
       " 'i m about to make my first payment on my loan but i have a couple questions about it',\n",
       " 'hi there i m working about a business loan i would like to take a new one out',\n",
       " 'hello i would like to take alone',\n",
       " 'hi i m calling from snyder hardware and i need to discuss a business loan it is an existing loan that i need to have a tree figured help please let me know thank you']"
      ]
     },
     "execution_count": 43,
     "metadata": {},
     "output_type": "execute_result"
    }
   ],
   "source": [
    "references"
   ]
  },
  {
   "cell_type": "code",
   "execution_count": null,
   "metadata": {},
   "outputs": [],
   "source": []
  }
 ],
 "metadata": {
  "kernelspec": {
   "display_name": "base",
   "language": "python",
   "name": "python3"
  },
  "language_info": {
   "codemirror_mode": {
    "name": "ipython",
    "version": 3
   },
   "file_extension": ".py",
   "mimetype": "text/x-python",
   "name": "python",
   "nbconvert_exporter": "python",
   "pygments_lexer": "ipython3",
   "version": "3.10.6"
  },
  "orig_nbformat": 4
 },
 "nbformat": 4,
 "nbformat_minor": 2
}
