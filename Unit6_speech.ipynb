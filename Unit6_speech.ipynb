{
 "cells": [
  {
   "cell_type": "markdown",
   "id": "3bceb0e1-f2c8-4f52-955a-578bf5500f7f",
   "metadata": {},
   "source": [
    "# Unit 6 - Creating Speech to text fine-tuning with T5"
   ]
  },
  {
   "cell_type": "code",
   "execution_count": null,
   "id": "87486362-539d-4cb2-a5d4-1d70b8cd96e1",
   "metadata": {},
   "outputs": [],
   "source": [
    "from huggingface_hub import notebook_login\n",
    "\n",
    "notebook_login()"
   ]
  },
  {
   "cell_type": "code",
   "execution_count": null,
   "id": "fbac647a-a306-4c51-b630-bf5dc1c36522",
   "metadata": {},
   "outputs": [],
   "source": [
    "from datasets import load_dataset, Audio\n",
    "from transformers import SpeechT5Processor"
   ]
  },
  {
   "cell_type": "code",
   "execution_count": null,
   "id": "78f8fbc4-2f57-4ecb-9169-86d99e026527",
   "metadata": {},
   "outputs": [],
   "source": [
    "dataset = load_dataset(\"facebook/voxpopuli\", \"nl\", split=\"train\")\n",
    "len(dataset)"
   ]
  },
  {
   "cell_type": "code",
   "execution_count": null,
   "id": "5fd10d19-ea19-49ef-9b91-87e571fc36ab",
   "metadata": {},
   "outputs": [],
   "source": [
    "dataset = load_dataset(\"vctk\")"
   ]
  },
  {
   "cell_type": "code",
   "execution_count": null,
   "id": "bd5a3ecf-4f6b-4464-9c94-fc61365d63da",
   "metadata": {},
   "outputs": [],
   "source": [
    "dataset = dataset.cast_column(\"audio\", Audio(sampling_rate=16000))"
   ]
  },
  {
   "cell_type": "code",
   "execution_count": null,
   "id": "9ee2f982-971a-4fd2-bf3a-be1e2a5d40a7",
   "metadata": {},
   "outputs": [],
   "source": [
    "\n",
    "checkpoint = \"microsoft/speecht5_tts\"\n",
    "processor = SpeechT5Processor.from_pretrained(checkpoint)"
   ]
  },
  {
   "cell_type": "code",
   "execution_count": null,
   "id": "eca2bbfb-5ff3-4bf7-a380-4a60037f0deb",
   "metadata": {},
   "outputs": [],
   "source": []
  },
  {
   "cell_type": "code",
   "execution_count": null,
   "id": "c52d26fc-6958-4eb7-b5e9-3d71332f460d",
   "metadata": {},
   "outputs": [],
   "source": []
  }
 ],
 "metadata": {
  "kernelspec": {
   "display_name": "Python 3 (ipykernel)",
   "language": "python",
   "name": "python3"
  },
  "language_info": {
   "codemirror_mode": {
    "name": "ipython",
    "version": 3
   },
   "file_extension": ".py",
   "mimetype": "text/x-python",
   "name": "python",
   "nbconvert_exporter": "python",
   "pygments_lexer": "ipython3",
   "version": "3.10.12"
  }
 },
 "nbformat": 4,
 "nbformat_minor": 5
}
