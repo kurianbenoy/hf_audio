{
 "cells": [
  {
   "cell_type": "code",
   "execution_count": 1,
   "metadata": {},
   "outputs": [
    {
     "name": "stderr",
     "output_type": "stream",
     "text": [
      "/home/kurianbenoy/mambaforge/lib/python3.10/site-packages/tqdm/auto.py:21: TqdmWarning: IProgress not found. Please update jupyter and ipywidgets. See https://ipywidgets.readthedocs.io/en/stable/user_install.html\n",
      "  from .autonotebook import tqdm as notebook_tqdm\n"
     ]
    }
   ],
   "source": [
    "from jiwer import wer\n",
    "from datasets import load_dataset, DatasetDict, Audio\n",
    "from whisper_normalizer.basic import BasicTextNormalizer\n",
    "from transformers import pipeline"
   ]
  },
  {
   "cell_type": "code",
   "execution_count": 2,
   "metadata": {},
   "outputs": [],
   "source": [
    "import gc\n",
    "\n",
    "import torch\n",
    "# from transformers.models.whisper.english_normalizer import BasicTextNormalizer\n",
    "from numerize import numerize\n"
   ]
  },
  {
   "cell_type": "code",
   "execution_count": 3,
   "metadata": {},
   "outputs": [],
   "source": [
    "\n",
    "# %% ../nbs/00_utils.ipynb 4\n",
    "whisper_norm = BasicTextNormalizer()\n",
    "\n",
    "# %% ../nbs/00_utils.ipynb 5\n",
    "def is_target_text_in_range(ref):\n",
    "    if ref.strip() == \"ignore time segment in scoring\":\n",
    "        return False\n",
    "    else:\n",
    "        return ref.strip() != \"\"\n",
    "\n",
    "\n",
    "def get_text(sample):\n",
    "    if \"text\" in sample:\n",
    "        return sample[\"text\"]\n",
    "    elif \"sentence\" in sample:\n",
    "        return sample[\"sentence\"]\n",
    "    elif \"normalized_text\" in sample:\n",
    "        return sample[\"normalized_text\"]\n",
    "    elif \"transcript\" in sample:\n",
    "        return sample[\"transcript\"]\n",
    "    elif \"transcription\" in sample:\n",
    "        return sample[\"transcription\"]\n",
    "    else:\n",
    "        raise ValueError(\n",
    "            f\"Expected transcript column of either 'text', 'sentence', 'normalized_text' or 'transcript'. Got sample of \"\n",
    "            \".join{sample.keys()}. Ensure a text column name is present in the dataset.\"\n",
    "        )\n",
    "\n",
    "\n",
    "def normalise(batch):\n",
    "    batch[\"norm_text\"] = whisper_norm(get_text(batch))\n",
    "    return batch\n",
    "\n",
    "\n",
    "def data(dataset):\n",
    "    for i, item in enumerate(dataset):\n",
    "        yield {**item[\"audio\"], \"reference\": item[\"norm_text\"]}\n",
    "\n",
    "# %% ../nbs/00_utils.ipynb 6\n",
    "def get_model_size(model):\n",
    "    total_params = sum(param.numel() for param in model.parameters())\n",
    "    return numerize.numerize(total_params)\n",
    "\n",
    "# %% ../nbs/00_utils.ipynb 7\n",
    "def clear_gpu_memory():\n",
    "    torch.cuda.empty_cache()\n",
    "    gc.collect()"
   ]
  },
  {
   "cell_type": "code",
   "execution_count": 4,
   "metadata": {},
   "outputs": [
    {
     "name": "stderr",
     "output_type": "stream",
     "text": [
      "Downloading builder script: 100%|██████████| 5.95k/5.95k [00:00<00:00, 14.8MB/s]\n",
      "Downloading readme: 100%|██████████████████| 5.29k/5.29k [00:00<00:00, 19.5MB/s]\n",
      "Downloading data: 100%|██████████████████████| 471M/471M [01:18<00:00, 5.97MB/s]\n",
      "Generating train split: 563 examples [00:00, 23518.45 examples/s]\n"
     ]
    },
    {
     "name": "stdout",
     "output_type": "stream",
     "text": [
      "DatasetDict({\n",
      "    train: Dataset({\n",
      "        features: ['path', 'audio', 'transcription', 'english_transcription', 'intent_class', 'lang_id'],\n",
      "        num_rows: 450\n",
      "    })\n",
      "    test: Dataset({\n",
      "        features: ['path', 'audio', 'transcription', 'english_transcription', 'intent_class', 'lang_id'],\n",
      "        num_rows: 113\n",
      "    })\n",
      "})\n"
     ]
    }
   ],
   "source": [
    "poly = DatasetDict()\n",
    "\n",
    "poly[\"train\"] = load_dataset(\n",
    "    \"PolyAI/minds14\", \"en-US\", split=\"train[0%:80%]\"\n",
    ")\n",
    "poly[\"test\"] = load_dataset(\n",
    "    \"PolyAI/minds14\", \"en-US\", split=\"train[80%:100%]\"\n",
    ")\n",
    "\n",
    "print(poly)"
   ]
  },
  {
   "cell_type": "code",
   "execution_count": 5,
   "metadata": {},
   "outputs": [
    {
     "name": "stderr",
     "output_type": "stream",
     "text": [
      "Downloading (…)lve/main/config.json: 100%|█| 2.23k/2.23k [00:00<00:00, 4.82MB/s]\n",
      "Downloading pytorch_model.bin: 100%|█████████| 967M/967M [02:37<00:00, 6.12MB/s]\n",
      "Downloading (…)okenizer_config.json: 100%|█████| 805/805 [00:00<00:00, 3.40MB/s]\n",
      "Downloading (…)olve/main/vocab.json: 100%|█| 1.04M/1.04M [00:00<00:00, 1.14MB/s]\n",
      "Downloading (…)olve/main/merges.txt: 100%|████| 494k/494k [00:00<00:00, 561kB/s]\n",
      "Downloading (…)main/normalizer.json: 100%|██| 52.7k/52.7k [00:00<00:00, 173kB/s]\n",
      "Downloading (…)in/added_tokens.json: 100%|█| 2.08k/2.08k [00:00<00:00, 2.17MB/s]\n",
      "Downloading (…)cial_tokens_map.json: 100%|█| 2.08k/2.08k [00:00<00:00, 7.45MB/s]\n",
      "Downloading (…)rocessor_config.json: 100%|█████| 339/339 [00:00<00:00, 1.02MB/s]\n"
     ]
    }
   ],
   "source": [
    "whisper_asr = pipeline(\"automatic-speech-recognition\", model=\"kurianbenoy/hfa-poly_english_small\")"
   ]
  },
  {
   "cell_type": "code",
   "execution_count": 6,
   "metadata": {},
   "outputs": [],
   "source": [
    "def ld():\n",
    "    dataset = poly[\"test\"]\n",
    "    dataset = dataset.cast_column(\"audio\", Audio(sampling_rate=16000))\n",
    "    dataset = dataset.map(normalise)\n",
    "    dataset = dataset.filter(is_target_text_in_range, input_columns=[\"norm_text\"])\n",
    "    return dataset"
   ]
  },
  {
   "cell_type": "code",
   "execution_count": 7,
   "metadata": {},
   "outputs": [
    {
     "name": "stderr",
     "output_type": "stream",
     "text": [
      "Map: 100%|██████████████████████████| 113/113 [00:00<00:00, 11071.68 examples/s]\n",
      "Filter: 100%|███████████████████████| 113/113 [00:00<00:00, 55459.44 examples/s]\n",
      "/home/kurianbenoy/mambaforge/lib/python3.10/site-packages/transformers/generation/utils.py:1369: UserWarning: Using `max_length`'s default (448) to control the generation length. This behaviour is deprecated and will be removed from the config in v5 of Transformers -- we recommend using `max_new_tokens` to control the maximum length of the generation.\n",
      "  warnings.warn(\n"
     ]
    },
    {
     "name": "stdout",
     "output_type": "stream",
     "text": [
      "CPU times: user 3h 22min 46s, sys: 4min 56s, total: 3h 27min 42s\n",
      "Wall time: 21min 9s\n"
     ]
    }
   ],
   "source": [
    "%%time\n",
    "ds = ld()\n",
    "predictions = []\n",
    "predictions_raw = []\n",
    "references = []\n",
    "references_raw = []\n",
    "normalizer = BasicTextNormalizer()\n",
    "for out in whisper_asr(data(ds), batch_size=4):\n",
    "    predictions_raw.append(out[\"text\"])\n",
    "    references_raw.append(out[\"reference\"][0])\n",
    "    predictions.append(normalizer(out[\"text\"]))\n",
    "    references.append(normalizer(out[\"reference\"][0]))"
   ]
  },
  {
   "cell_type": "code",
   "execution_count": 8,
   "metadata": {},
   "outputs": [
    {
     "data": {
      "text/plain": [
       "0.3715670436187399"
      ]
     },
     "execution_count": 8,
     "metadata": {},
     "output_type": "execute_result"
    }
   ],
   "source": [
    "wer(predictions_raw, references_raw)"
   ]
  },
  {
   "cell_type": "code",
   "execution_count": 9,
   "metadata": {},
   "outputs": [
    {
     "data": {
      "text/plain": [
       "0.24654023577652487"
      ]
     },
     "execution_count": 9,
     "metadata": {},
     "output_type": "execute_result"
    }
   ],
   "source": [
    "wer(predictions, references)"
   ]
  },
  {
   "cell_type": "code",
   "execution_count": null,
   "metadata": {},
   "outputs": [],
   "source": []
  }
 ],
 "metadata": {
  "kernelspec": {
   "display_name": "Python 3 (ipykernel)",
   "language": "python",
   "name": "python3"
  },
  "language_info": {
   "codemirror_mode": {
    "name": "ipython",
    "version": 3
   },
   "file_extension": ".py",
   "mimetype": "text/x-python",
   "name": "python",
   "nbconvert_exporter": "python",
   "pygments_lexer": "ipython3",
   "version": "3.10.12"
  }
 },
 "nbformat": 4,
 "nbformat_minor": 4
}
